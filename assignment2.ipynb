{
 "cells": [
  {
   "cell_type": "code",
   "execution_count": 2,
   "metadata": {
    "collapsed": false
   },
   "outputs": [
    {
     "name": "stdout",
     "output_type": "stream",
     "text": [
      "predicted: ['republican' 'republican']\n",
      "truth [['republican']\n",
      " ['republican']]\n"
     ]
    }
   ],
   "source": [
    "import sklearn\n",
    "import sklearn.tree\n",
    "import numpy as np\n",
    "import graphviz\n",
    "\n",
    "# Initiate classifier\n",
    "infoGain_clf = sklearn.tree.DecisionTreeClassifier(criterion='entropy')\n",
    "\n",
    "\n",
    "def load_data(type):\n",
    "\n",
    "    col_names = [\n",
    "        'RepubOrDemo', 'handicapped-infants', 'water-project-cost-sharing', 'adoption-of-the-budget-resolution',\n",
    "        'physician-fee-freeze', 'el-salvador-aid', 'religious-groups-in-schools', 'anti-satellite-test-ban',\n",
    "        'aid-to-nicaraguan-contras', 'mx-missile', 'immigration', 'synfuels-corporation-cutback', 'education-spending',\n",
    "        'superfund-right-to-sue', 'crime', 'duty-free-exports', 'export-administration-act-south-africa'\n",
    "    ]\n",
    "\n",
    "    my_votes_array = np.genfromtxt('house-votes-84.data', dtype=None, delimiter=',')\n",
    "\n",
    "    x_matrix = my_votes_array[:, 1:]\n",
    "    feature_names = np.array(col_names[1:])\n",
    "\n",
    "    y = my_votes_array[:, :1]\n",
    "\n",
    "    label_name = ['Republican', 'Democrat']\n",
    "\n",
    "    x_matrix = convert_to_zeros_and_ones(type, x_matrix)\n",
    "\n",
    "    # Fit classifier\n",
    "    infoGain_clf.fit(x_matrix, y)\n",
    "\n",
    "    from StringIO import StringIO\n",
    "    ss = StringIO()\n",
    "\n",
    "    sklearn.tree.export_graphviz(infoGain_clf.tree_, feature_names=feature_names, class_names=label_name, \n",
    "                                 label=\"all\", out_file=ss)\n",
    "    graphviz.Source(ss.getvalue())\n",
    "\n",
    "    get_prediction(-2, x_matrix, y)\n",
    "\n",
    "\n",
    "def convert_to_zeros_and_ones(type, data):\n",
    "\n",
    "    data[data == 'y'] = 1\n",
    "    data[data == 'n'] = 0\n",
    "\n",
    "    if type == 'ternary':\n",
    "        data = convert_ternary(data)\n",
    "    elif type == 'skip':\n",
    "        data = skip(data)\n",
    "    else:\n",
    "        print 'finding common'\n",
    "\n",
    "    data = data.astype(int)\n",
    "\n",
    "    return data\n",
    "\n",
    "def skip(data):\n",
    "    \n",
    "\n",
    "\n",
    "def convert_ternary(data):\n",
    "    data[data == '?'] = 2\n",
    "\n",
    "    return data\n",
    "\n",
    "\n",
    "def get_prediction(row_num, x_matrix, y):\n",
    "    print \"predicted:\", infoGain_clf.predict(x_matrix[-2:, :])\n",
    "    print \"truth\", y[-2:]\n",
    "\n",
    "load_data('ternary')"
   ]
  }
 ],
 "metadata": {
  "kernelspec": {
   "display_name": "Python 2",
   "language": "python",
   "name": "python2"
  },
  "language_info": {
   "codemirror_mode": {
    "name": "ipython",
    "version": 2
   },
   "file_extension": ".py",
   "mimetype": "text/x-python",
   "name": "python",
   "nbconvert_exporter": "python",
   "pygments_lexer": "ipython2",
   "version": "2.7.11"
  }
 },
 "nbformat": 4,
 "nbformat_minor": 1
}
